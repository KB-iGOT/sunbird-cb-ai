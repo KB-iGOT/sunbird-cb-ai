{
 "cells": [
  {
   "cell_type": "markdown",
   "id": "4cd0b020",
   "metadata": {},
   "source": [
    "## Import Libraries"
   ]
  },
  {
   "cell_type": "code",
   "execution_count": 1,
   "id": "4032d808",
   "metadata": {},
   "outputs": [],
   "source": [
    "import json\n",
    "import pandas as pd\n",
    "import numpy as np"
   ]
  },
  {
   "cell_type": "code",
   "execution_count": null,
   "id": "02ad540e",
   "metadata": {},
   "outputs": [],
   "source": []
  },
  {
   "cell_type": "markdown",
   "id": "31be55c1",
   "metadata": {},
   "source": [
    "## Function for traversing through folder-files and creating dataframe and then generating csv out of it"
   ]
  },
  {
   "cell_type": "code",
   "execution_count": 60,
   "id": "56391b5b",
   "metadata": {},
   "outputs": [],
   "source": [
    "def create_dataframe_from_json(path):\n",
    "    dfs = []  \n",
    "    \n",
    "    folders = os.listdir(path)\n",
    "    \n",
    "    for folder in folders:\n",
    "        new_path = os.path.join(path, folder)\n",
    "        files_in_folder = os.listdir(new_path)\n",
    "        \n",
    "        for index, file in enumerate(files_in_folder):\n",
    "            file_name = file.split(\".\")\n",
    "            file_path = os.path.join(new_path, file)\n",
    "            \n",
    "            with open(file_path, 'r', encoding='utf-8') as file:\n",
    "                data = json.load(file)\n",
    "                \n",
    "            dict_json = {f\"{file_name[0]}.{k}.{key}\": string for k, v in data.items() for key, string in v.items()}\n",
    "            \n",
    "            df = pd.DataFrame.from_dict(dict_json, orient='index').reset_index()\n",
    "            df.rename(columns={\"index\": \"languagekey\", 0: \"en_value (current)\"}, inplace=True)\n",
    "\n",
    "            additional_columns = [\"hi_translated\", \"hi_transliterated\", \"hi_value(curated)\",\n",
    "                                  \"ta_translated\", \"ta_transliterated\", \"ta_value (curated)\"]\n",
    "            \n",
    "            df[additional_columns] = pd.DataFrame([[pd.NA] * len(additional_columns)], index=df.index)\n",
    "            dfs.append(df)\n",
    "    \n",
    "\n",
    "    result_df = pd.concat(dfs, ignore_index=True)\n",
    "    result_df.to_csv(\"Sample.csv\", index=False)\n",
    "    \n",
    "#     return result_df\n",
    "    return None"
   ]
  },
  {
   "cell_type": "code",
   "execution_count": null,
   "id": "a5373937",
   "metadata": {},
   "outputs": [],
   "source": [
    "path = r\"C:\\Users\\Palash Ashok Bhosale\\Jupy\\Projects\\bhashini_integration\\Json_tocsv\\json_files\"\n",
    "result_df = create_dataframe_from_json(path)\n",
    "# print(result_df.head())"
   ]
  },
  {
   "cell_type": "markdown",
   "id": "94aa8890",
   "metadata": {},
   "source": [
    "# Bhashini Integration"
   ]
  },
  {
   "cell_type": "markdown",
   "id": "a46aebf2",
   "metadata": {},
   "source": [
    "## Get active api keys"
   ]
  },
  {
   "cell_type": "code",
   "execution_count": 61,
   "id": "5faac12d",
   "metadata": {},
   "outputs": [],
   "source": [
    "import requests\n"
   ]
  },
  {
   "cell_type": "code",
   "execution_count": 62,
   "id": "c76cbc19",
   "metadata": {},
   "outputs": [],
   "source": [
    "userID='3b9427542f494332b6431cb28dd1ddb1'\n",
    "ulcaApiKey='52194d3e6f-1d2c-4247-a665-bce41ef2eb4c'"
   ]
  },
  {
   "cell_type": "code",
   "execution_count": 63,
   "id": "c4c0d467",
   "metadata": {},
   "outputs": [],
   "source": [
    "def getactive_api(taskType, userID, ulcaApiKey):\n",
    "        \n",
    "    url = \"https://meity-auth.ulcacontrib.org/ulca/apis/v0/model/getModelsPipeline\"\n",
    "\n",
    "    payload = json.dumps({\n",
    "      \"pipelineTasks\": [\n",
    "        {\n",
    "          \"taskType\": taskType,\n",
    "          \"config\": {\n",
    "            \"language\": {\n",
    "              \"sourceLanguage\": \"en\"\n",
    "            }\n",
    "          }\n",
    "        }\n",
    "      ],\n",
    "      \"pipelineRequestConfig\": {\n",
    "        \"pipelineId\": \"64392f96daac500b55c543cd\"\n",
    "      }\n",
    "    })\n",
    "    headers = {\n",
    "      'userID': userID,\n",
    "      'ulcaApiKey': ulcaApiKey,\n",
    "      'Content-Type': 'application/json'\n",
    "    }\n",
    "\n",
    "    response = requests.request(\"POST\", url, headers=headers, data=payload)\n",
    "\n",
    "\n",
    "    config_translation=response.text\n",
    "    config_translation_data = json.loads(config_translation)\n",
    "#     print(config_translation_data)\n",
    "    target_languages = config_translation_data['languages'][0]['targetLanguageList']\n",
    "    api_translation = config_translation_data['pipelineResponseConfig'][0]['config'][0]['serviceId']\n",
    "#     target_lang=str(input(f\"select language from this list {target_languages}: \"))\n",
    "\n",
    "    return api_translation\n",
    "    "
   ]
  },
  {
   "cell_type": "markdown",
   "id": "369198b2",
   "metadata": {},
   "source": [
    "## Store active api for translation and transliteration in active _api list"
   ]
  },
  {
   "cell_type": "code",
   "execution_count": 64,
   "id": "34a8441f",
   "metadata": {},
   "outputs": [],
   "source": [
    "active_api=[]"
   ]
  },
  {
   "cell_type": "code",
   "execution_count": 65,
   "id": "2ebdd245",
   "metadata": {},
   "outputs": [],
   "source": [
    "active_api.append(getactive_api(\"transliteration\", userID, ulcaApiKey))"
   ]
  },
  {
   "cell_type": "code",
   "execution_count": 66,
   "id": "9389edd3",
   "metadata": {},
   "outputs": [],
   "source": [
    "active_api.append(getactive_api(\"translation\", userID, ulcaApiKey))"
   ]
  },
  {
   "cell_type": "code",
   "execution_count": 67,
   "id": "2b2da2b7",
   "metadata": {},
   "outputs": [
    {
     "data": {
      "text/plain": [
       "['ai4bharat/indicxlit--cpu-fsv2', 'ai4bharat/indictrans-v2-all-gpu--t4']"
      ]
     },
     "execution_count": 67,
     "metadata": {},
     "output_type": "execute_result"
    }
   ],
   "source": [
    "active_api"
   ]
  },
  {
   "cell_type": "code",
   "execution_count": null,
   "id": "6c99bb52",
   "metadata": {},
   "outputs": [],
   "source": []
  },
  {
   "cell_type": "code",
   "execution_count": null,
   "id": "9ce9ebb4",
   "metadata": {},
   "outputs": [],
   "source": []
  },
  {
   "cell_type": "markdown",
   "id": "bf3327bd",
   "metadata": {},
   "source": [
    "## Function to get translation and transliteration"
   ]
  },
  {
   "cell_type": "code",
   "execution_count": 68,
   "id": "720111e8",
   "metadata": {},
   "outputs": [],
   "source": [
    "def bhashini_api_call(task, target_lang, active_api, string):\n",
    "    if task==\"translation\":\n",
    "        api=active_api[1]\n",
    "    else:\n",
    "        api= active_api[0]\n",
    "\n",
    "\n",
    "    url = \"https://dhruva-api.bhashini.gov.in/services/inference/pipeline\"\n",
    "    # source=\"Hi my name is Palash\"\n",
    "    payload = json.dumps({\n",
    "      \"pipelineTasks\": [\n",
    "        {\n",
    "          \"taskType\": task,\n",
    "          \"config\": {\n",
    "            \"language\": {\n",
    "              \"sourceLanguage\": \"en\",\n",
    "              \"targetLanguage\": target_lang\n",
    "            },\n",
    "            \"serviceId\": api\n",
    "          }\n",
    "        }\n",
    "      ],\n",
    "      \"inputData\": {\n",
    "        \"input\": [\n",
    "          {\n",
    "            \"source\": string\n",
    "    #         \"source\": \"मेरा नाम विहिर है और मैं भाषाावर्ष यूज कर रहा हूँ\"\n",
    "          }\n",
    "        ]\n",
    "      }\n",
    "    })\n",
    "    headers = {\n",
    "      'Accept': '*/*',\n",
    "      'Authorization': '9uAUqhCxaept0FGxeOUkyJ1XQSZtp9GWHy5XLriwyBsS-sovl9RkTe2Gkthwrx2F',\n",
    "      'Content-Type': 'application/json'\n",
    "    }\n",
    "\n",
    "    response = requests.request(\"POST\", url, headers=headers, data=payload)\n",
    "\n",
    "    translation_json= response.text\n",
    "\n",
    "    translated_data = json.loads(translation_json)\n",
    "#     print(api)\n",
    "    if task==\"translation\":\n",
    "        return translated_data['pipelineResponse'][0]['output'][0]['target']\n",
    "    else:\n",
    "        return translated_data['pipelineResponse'][0]['output'][0]['target'][0]"
   ]
  },
  {
   "cell_type": "markdown",
   "id": "57300bef",
   "metadata": {},
   "source": [
    "## Load CSV"
   ]
  },
  {
   "cell_type": "code",
   "execution_count": 74,
   "id": "4ad142d2",
   "metadata": {},
   "outputs": [],
   "source": [
    "df=pd.read_csv(\"Sample.csv\")"
   ]
  },
  {
   "cell_type": "code",
   "execution_count": 75,
   "id": "42875fe0",
   "metadata": {},
   "outputs": [],
   "source": [
    "for index,row in df.iterrows():\n",
    "\n",
    "    row[\"hi_translated\"]=bhashini_api_call(\"translation\", \"hi\", active_api, row[\"en_value (current)\"])\n",
    "\n",
    "    \n",
    "    break"
   ]
  },
  {
   "cell_type": "code",
   "execution_count": 76,
   "id": "2632223e",
   "metadata": {},
   "outputs": [
    {
     "name": "stderr",
     "output_type": "stream",
     "text": [
      "100%|██████████████████████████████████████████████████████████████████████████████| 1047/1047 [07:47<00:00,  2.24it/s]\n"
     ]
    }
   ],
   "source": [
    "df[\"hi_translated\"] = df[\"en_value (current)\"].progress_apply(lambda x: bhashini_api_call(\"translation\", \"hi\", active_api, x))\n"
   ]
  },
  {
   "cell_type": "code",
   "execution_count": 83,
   "id": "b5d39d71",
   "metadata": {},
   "outputs": [
    {
     "data": {
      "text/html": [
       "<div>\n",
       "<style scoped>\n",
       "    .dataframe tbody tr th:only-of-type {\n",
       "        vertical-align: middle;\n",
       "    }\n",
       "\n",
       "    .dataframe tbody tr th {\n",
       "        vertical-align: top;\n",
       "    }\n",
       "\n",
       "    .dataframe thead th {\n",
       "        text-align: right;\n",
       "    }\n",
       "</style>\n",
       "<table border=\"1\" class=\"dataframe\">\n",
       "  <thead>\n",
       "    <tr style=\"text-align: right;\">\n",
       "      <th></th>\n",
       "      <th>languagekey</th>\n",
       "      <th>en_value (current)</th>\n",
       "      <th>hi_translated</th>\n",
       "      <th>hi_transliterated</th>\n",
       "      <th>hi_value(curated)</th>\n",
       "      <th>ta_translated</th>\n",
       "      <th>ta_transliterated</th>\n",
       "      <th>ta_value (curated)</th>\n",
       "    </tr>\n",
       "  </thead>\n",
       "  <tbody>\n",
       "    <tr>\n",
       "      <th>60</th>\n",
       "      <td>en.appnavbar.searchforLearningContents</td>\n",
       "      <td>Search for learning contents</td>\n",
       "      <td>सीखने की सामग्री खोजें</td>\n",
       "      <td>सर्च फोर लर्निंग कंटेंट्स</td>\n",
       "      <td>NaN</td>\n",
       "      <td>கற்றல் உள்ளடக்கங்களைத் தேடுங்கள்</td>\n",
       "      <td>NaN</td>\n",
       "      <td>NaN</td>\n",
       "    </tr>\n",
       "    <tr>\n",
       "      <th>618</th>\n",
       "      <td>en.home.btnDiscuss</td>\n",
       "      <td>Discuss</td>\n",
       "      <td>चर्चा करें।</td>\n",
       "      <td>डिस्कस</td>\n",
       "      <td>NaN</td>\n",
       "      <td>விவாதிக்கவும்.</td>\n",
       "      <td>NaN</td>\n",
       "      <td>NaN</td>\n",
       "    </tr>\n",
       "    <tr>\n",
       "      <th>10</th>\n",
       "      <td>en.common.cbpPortal</td>\n",
       "      <td>CBP Portal</td>\n",
       "      <td>सीबीपी पोर्टल</td>\n",
       "      <td>सीबीपी पोर्टल</td>\n",
       "      <td>NaN</td>\n",
       "      <td>சிபிபி இணையதளம்</td>\n",
       "      <td>NaN</td>\n",
       "      <td>NaN</td>\n",
       "    </tr>\n",
       "    <tr>\n",
       "      <th>87</th>\n",
       "      <td>en.cardshublist.quicklinks</td>\n",
       "      <td>Quick links</td>\n",
       "      <td>त्वरित लिंक</td>\n",
       "      <td>क्विक लिंक्स</td>\n",
       "      <td>NaN</td>\n",
       "      <td>விரைவான இணைப்புகள்</td>\n",
       "      <td>NaN</td>\n",
       "      <td>NaN</td>\n",
       "    </tr>\n",
       "    <tr>\n",
       "      <th>633</th>\n",
       "      <td>en.home.navigationDetails</td>\n",
       "      <td>Details</td>\n",
       "      <td>विवरण</td>\n",
       "      <td>डिटेल्स</td>\n",
       "      <td>NaN</td>\n",
       "      <td>விவரங்கள்</td>\n",
       "      <td>NaN</td>\n",
       "      <td>NaN</td>\n",
       "    </tr>\n",
       "  </tbody>\n",
       "</table>\n",
       "</div>"
      ],
      "text/plain": [
       "                                languagekey            en_value (current)  \\\n",
       "60   en.appnavbar.searchforLearningContents  Search for learning contents   \n",
       "618                      en.home.btnDiscuss                       Discuss   \n",
       "10                      en.common.cbpPortal                    CBP Portal   \n",
       "87               en.cardshublist.quicklinks                   Quick links   \n",
       "633               en.home.navigationDetails                       Details   \n",
       "\n",
       "              hi_translated          hi_transliterated  hi_value(curated)  \\\n",
       "60   सीखने की सामग्री खोजें  सर्च फोर लर्निंग कंटेंट्स                NaN   \n",
       "618             चर्चा करें।                     डिस्कस                NaN   \n",
       "10            सीबीपी पोर्टल              सीबीपी पोर्टल                NaN   \n",
       "87              त्वरित लिंक               क्विक लिंक्स                NaN   \n",
       "633                   विवरण                    डिटेल्स                NaN   \n",
       "\n",
       "                        ta_translated  ta_transliterated  ta_value (curated)  \n",
       "60   கற்றல் உள்ளடக்கங்களைத் தேடுங்கள்                NaN                 NaN  \n",
       "618                    விவாதிக்கவும்.                NaN                 NaN  \n",
       "10                    சிபிபி இணையதளம்                NaN                 NaN  \n",
       "87                 விரைவான இணைப்புகள்                NaN                 NaN  \n",
       "633                         விவரங்கள்                NaN                 NaN  "
      ]
     },
     "execution_count": 83,
     "metadata": {},
     "output_type": "execute_result"
    }
   ],
   "source": [
    "df.sample(5)"
   ]
  },
  {
   "cell_type": "code",
   "execution_count": 78,
   "id": "e0550c99",
   "metadata": {},
   "outputs": [
    {
     "name": "stderr",
     "output_type": "stream",
     "text": [
      "100%|██████████████████████████████████████████████████████████████████████████████| 1047/1047 [08:04<00:00,  2.16it/s]\n"
     ]
    }
   ],
   "source": [
    "df[\"ta_translated\"] = df[\"en_value (current)\"].progress_apply(lambda x: bhashini_api_call(\"translation\", \"ta\", active_api, x))\n"
   ]
  },
  {
   "cell_type": "code",
   "execution_count": 82,
   "id": "1c4a8a51",
   "metadata": {},
   "outputs": [
    {
     "name": "stderr",
     "output_type": "stream",
     "text": [
      "100%|██████████████████████████████████████████████████████████████████████████████| 1047/1047 [12:56<00:00,  1.35it/s]\n"
     ]
    }
   ],
   "source": [
    "df[\"hi_transliterated\"] = df[\"en_value (current)\"].progress_apply(lambda x: bhashini_api_call(\"transliteration\", \"hi\", active_api, x))"
   ]
  },
  {
   "cell_type": "code",
   "execution_count": null,
   "id": "1b605b97",
   "metadata": {},
   "outputs": [],
   "source": []
  },
  {
   "cell_type": "code",
   "execution_count": 84,
   "id": "e2ea4887",
   "metadata": {},
   "outputs": [
    {
     "name": "stderr",
     "output_type": "stream",
     "text": [
      "100%|██████████████████████████████████████████████████████████████████████████████| 1047/1047 [14:08<00:00,  1.23it/s]\n"
     ]
    }
   ],
   "source": [
    "df[\"ta_transliterated\"] = df[\"en_value (current)\"].progress_apply(lambda x: bhashini_api_call(\"transliteration\", \"ta\", active_api, x))"
   ]
  },
  {
   "cell_type": "code",
   "execution_count": 85,
   "id": "5f8cf2d1",
   "metadata": {},
   "outputs": [],
   "source": [
    "df.to_csv(\"Updated_05_12.csv\")"
   ]
  },
  {
   "cell_type": "code",
   "execution_count": null,
   "id": "6d1c9515",
   "metadata": {},
   "outputs": [],
   "source": []
  },
  {
   "cell_type": "code",
   "execution_count": 88,
   "id": "19fcce44",
   "metadata": {},
   "outputs": [],
   "source": [
    "df=pd.read_csv(\"Updated_05_12.csv\")"
   ]
  },
  {
   "cell_type": "code",
   "execution_count": null,
   "id": "4e394564",
   "metadata": {},
   "outputs": [],
   "source": []
  },
  {
   "cell_type": "code",
   "execution_count": null,
   "id": "80841f72",
   "metadata": {},
   "outputs": [],
   "source": []
  },
  {
   "cell_type": "code",
   "execution_count": 101,
   "id": "984d8101",
   "metadata": {},
   "outputs": [
    {
     "data": {
      "text/html": [
       "<div>\n",
       "<style scoped>\n",
       "    .dataframe tbody tr th:only-of-type {\n",
       "        vertical-align: middle;\n",
       "    }\n",
       "\n",
       "    .dataframe tbody tr th {\n",
       "        vertical-align: top;\n",
       "    }\n",
       "\n",
       "    .dataframe thead th {\n",
       "        text-align: right;\n",
       "    }\n",
       "</style>\n",
       "<table border=\"1\" class=\"dataframe\">\n",
       "  <thead>\n",
       "    <tr style=\"text-align: right;\">\n",
       "      <th></th>\n",
       "      <th>Unnamed: 0</th>\n",
       "      <th>languagekey</th>\n",
       "      <th>en_value (current)</th>\n",
       "      <th>hi_translated</th>\n",
       "      <th>hi_transliterated</th>\n",
       "      <th>hi_value(curated)</th>\n",
       "      <th>ta_translated</th>\n",
       "      <th>ta_transliterated</th>\n",
       "      <th>ta_value (curated)</th>\n",
       "    </tr>\n",
       "  </thead>\n",
       "  <tbody>\n",
       "    <tr>\n",
       "      <th>0</th>\n",
       "      <td>0</td>\n",
       "      <td>en.common.karmayogiBharat</td>\n",
       "      <td>Karmayogi Bharat</td>\n",
       "      <td>कर्मयोगी भारत</td>\n",
       "      <td>कर्मयोगी भारत</td>\n",
       "      <td>NaN</td>\n",
       "      <td>கர்மயோகி பாரத்</td>\n",
       "      <td>கர்மயோகி பாரத்</td>\n",
       "      <td>NaN</td>\n",
       "    </tr>\n",
       "    <tr>\n",
       "      <th>1</th>\n",
       "      <td>1</td>\n",
       "      <td>en.common.hubs</td>\n",
       "      <td>Hubs</td>\n",
       "      <td>हब</td>\n",
       "      <td>हब्स</td>\n",
       "      <td>NaN</td>\n",
       "      <td>மையங்கள்</td>\n",
       "      <td>ஹப்ஸ்</td>\n",
       "      <td>NaN</td>\n",
       "    </tr>\n",
       "    <tr>\n",
       "      <th>2</th>\n",
       "      <td>2</td>\n",
       "      <td>en.common.learn</td>\n",
       "      <td>Learn</td>\n",
       "      <td>सीखें।</td>\n",
       "      <td>लर्न</td>\n",
       "      <td>NaN</td>\n",
       "      <td>கற்றுக் கொள்ளுங்கள்.</td>\n",
       "      <td>லர்ன்</td>\n",
       "      <td>NaN</td>\n",
       "    </tr>\n",
       "    <tr>\n",
       "      <th>3</th>\n",
       "      <td>3</td>\n",
       "      <td>en.common.discuss</td>\n",
       "      <td>Discuss</td>\n",
       "      <td>चर्चा करें।</td>\n",
       "      <td>डिस्कस</td>\n",
       "      <td>NaN</td>\n",
       "      <td>விவாதிக்கவும்.</td>\n",
       "      <td>டிஸ்கஸ்</td>\n",
       "      <td>NaN</td>\n",
       "    </tr>\n",
       "    <tr>\n",
       "      <th>4</th>\n",
       "      <td>4</td>\n",
       "      <td>en.common.network</td>\n",
       "      <td>Network</td>\n",
       "      <td>नेटवर्क</td>\n",
       "      <td>नेटवर्क</td>\n",
       "      <td>NaN</td>\n",
       "      <td>நெட்வொர்க்</td>\n",
       "      <td>நெட்வொர்க்</td>\n",
       "      <td>NaN</td>\n",
       "    </tr>\n",
       "  </tbody>\n",
       "</table>\n",
       "</div>"
      ],
      "text/plain": [
       "   Unnamed: 0                languagekey en_value (current)  hi_translated  \\\n",
       "0           0  en.common.karmayogiBharat   Karmayogi Bharat  कर्मयोगी भारत   \n",
       "1           1             en.common.hubs               Hubs             हब   \n",
       "2           2            en.common.learn              Learn         सीखें।   \n",
       "3           3          en.common.discuss            Discuss    चर्चा करें।   \n",
       "4           4          en.common.network            Network        नेटवर्क   \n",
       "\n",
       "  hi_transliterated  hi_value(curated)         ta_translated  \\\n",
       "0     कर्मयोगी भारत                NaN        கர்மயோகி பாரத்   \n",
       "1              हब्स                NaN              மையங்கள்   \n",
       "2              लर्न                NaN  கற்றுக் கொள்ளுங்கள்.   \n",
       "3            डिस्कस                NaN        விவாதிக்கவும்.   \n",
       "4           नेटवर्क                NaN            நெட்வொர்க்   \n",
       "\n",
       "  ta_transliterated  ta_value (curated)  \n",
       "0    கர்மயோகி பாரத்                 NaN  \n",
       "1             ஹப்ஸ்                 NaN  \n",
       "2             லர்ன்                 NaN  \n",
       "3           டிஸ்கஸ்                 NaN  \n",
       "4        நெட்வொர்க்                 NaN  "
      ]
     },
     "execution_count": 101,
     "metadata": {},
     "output_type": "execute_result"
    }
   ],
   "source": [
    "\n",
    "    df.head()"
   ]
  },
  {
   "cell_type": "code",
   "execution_count": 102,
   "id": "ceb3ae6d",
   "metadata": {},
   "outputs": [],
   "source": [
    "def create_Json(u_in):\n",
    "    final_dict = {}\n",
    "\n",
    "    for index, row in df.iterrows():\n",
    "        separated_labels = row[\"languagekey\"].split(\".\")\n",
    "        label = f\"{separated_labels[0]}.{separated_labels[1]}\"\n",
    "\n",
    "        if label not in final_dict:\n",
    "            final_dict[label] = {}\n",
    "\n",
    "        if row[u_in] is not np.nan:\n",
    "            final_dict[label][separated_labels[2]] = row[u_in]\n",
    "        else:\n",
    "            final_dict[label][separated_labels[2]] = row[\"en_value (current)\"]\n",
    "\n",
    "    file_path = 'output.json'\n",
    "\n",
    "    with open(file_path, 'w', encoding='utf-8') as json_file:\n",
    "        json.dump(final_dict, json_file, indent=2, ensure_ascii=False)\n",
    "\n",
    "    return final_dict\n",
    "\n",
    "\n"
   ]
  },
  {
   "cell_type": "code",
   "execution_count": 103,
   "id": "f40d5467",
   "metadata": {},
   "outputs": [],
   "source": [
    "result_dict = create_Json(\"hi_translated\")"
   ]
  },
  {
   "cell_type": "code",
   "execution_count": null,
   "id": "dd5056cc",
   "metadata": {},
   "outputs": [],
   "source": []
  }
 ],
 "metadata": {
  "kernelspec": {
   "display_name": "Python 3 (ipykernel)",
   "language": "python",
   "name": "python3"
  },
  "language_info": {
   "codemirror_mode": {
    "name": "ipython",
    "version": 3
   },
   "file_extension": ".py",
   "mimetype": "text/x-python",
   "name": "python",
   "nbconvert_exporter": "python",
   "pygments_lexer": "ipython3",
   "version": "3.11.4"
  }
 },
 "nbformat": 4,
 "nbformat_minor": 5
}
