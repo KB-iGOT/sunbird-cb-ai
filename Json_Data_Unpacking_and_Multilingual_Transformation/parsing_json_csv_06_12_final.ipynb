{
 "cells": [
  {
   "cell_type": "markdown",
   "id": "4cd0b020",
   "metadata": {},
   "source": [
    "## Import Libraries"
   ]
  },
  {
   "cell_type": "code",
   "execution_count": 1,
   "id": "4032d808",
   "metadata": {},
   "outputs": [],
   "source": [
    "import json\n",
    "import pandas as pd\n",
    "import numpy as np\n",
    "import os"
   ]
  },
  {
   "cell_type": "code",
   "execution_count": 2,
   "id": "e626112c",
   "metadata": {},
   "outputs": [],
   "source": [
    "from tqdm import tqdm\n",
    "tqdm.pandas()"
   ]
  },
  {
   "cell_type": "markdown",
   "id": "0256fd59",
   "metadata": {},
   "source": [
    "### function for paring 2 folders to find count of duplicate keys present"
   ]
  },
  {
   "cell_type": "code",
   "execution_count": 212,
   "id": "02ad540e",
   "metadata": {},
   "outputs": [],
   "source": [
    "def chk_duplicates(path):\n",
    "    duplicate = []  \n",
    "    \n",
    "    folders = os.listdir(path)\n",
    "    \n",
    "    for folder in folders:\n",
    "        new_path = os.path.join(path, folder)\n",
    "        files_in_folder = os.listdir(new_path)\n",
    "        \n",
    "        for index, file in enumerate(files_in_folder):\n",
    "            \n",
    "            file_path = os.path.join(new_path, file)\n",
    "            \n",
    "            with open(file_path, 'r', encoding='utf-8') as file:\n",
    "                data = json.load(file)\n",
    "                \n",
    "            dupli = [value for k,v in data.items() for key, value in v.items()]\n",
    "            duplicate.extend(dupli)\n",
    "    count={}\n",
    "    for word in duplicate:\n",
    "        if word not in count:\n",
    "            count[word]=duplicate.count(word)\n",
    "    count={key:v for key, v in sorted(count.items(), key=lambda x: (x[1], x[0]), reverse=True)}\n",
    "    \n",
    "    return count"
   ]
  },
  {
   "cell_type": "code",
   "execution_count": null,
   "id": "38b48106",
   "metadata": {},
   "outputs": [],
   "source": []
  },
  {
   "cell_type": "code",
   "execution_count": 214,
   "id": "a204c668",
   "metadata": {},
   "outputs": [],
   "source": [
    "path = r\"C:\\Users\\Palash Ashok Bhosale\\Jupy\\Projects\\bhashini_integration\\Json_tocsv\\json_files\"\n",
    "ans=chk_duplicates(path)\n",
    "with open(\"duplicate_words_count.json\", \"w\") as f:\n",
    "    \n",
    "    json.dump(ans, f)"
   ]
  },
  {
   "cell_type": "code",
   "execution_count": null,
   "id": "2761b866",
   "metadata": {},
   "outputs": [],
   "source": []
  },
  {
   "cell_type": "code",
   "execution_count": null,
   "id": "55b753a1",
   "metadata": {},
   "outputs": [],
   "source": []
  },
  {
   "cell_type": "code",
   "execution_count": 223,
   "id": "0be921bf",
   "metadata": {},
   "outputs": [],
   "source": [
    "def check_duplicates(path):\n",
    "    duplicate = []  \n",
    "    \n",
    "    folder = os.listdir(path)\n",
    "    \n",
    "    \n",
    "        \n",
    "        \n",
    "    for index, file in enumerate(folder):\n",
    "\n",
    "        file_path = os.path.join(path, file)\n",
    "        print(file)\n",
    "\n",
    "        with open(file_path, 'r', encoding='utf-8') as file:\n",
    "            data = json.load(file)\n",
    "\n",
    "        dupli = [value for k,v in data.items() for key, value in v.items()]\n",
    "        duplicate.extend(dupli)\n",
    "    count={}\n",
    "    for word in duplicate:\n",
    "        if word not in count:\n",
    "            count[word]=duplicate.count(word)\n",
    "    count={key:v for key, v in sorted(count.items(), key=lambda x: (x[1], x[0]), reverse=True)}\n",
    "    \n",
    "    return count"
   ]
  },
  {
   "cell_type": "code",
   "execution_count": 224,
   "id": "6a542495",
   "metadata": {},
   "outputs": [
    {
     "name": "stdout",
     "output_type": "stream",
     "text": [
      "en.json\n"
     ]
    }
   ],
   "source": [
    "path = r\"C:\\Users\\Palash Ashok Bhosale\\Jupy\\Projects\\bhashini_integration\\Json_tocsv\\final_data\"\n",
    "ans=check_duplicates(path)\n",
    "with open(\"duplicate_words_count.json\", \"w\") as f:\n",
    "    \n",
    "    json.dump(ans, f)"
   ]
  },
  {
   "cell_type": "markdown",
   "id": "31be55c1",
   "metadata": {},
   "source": [
    "## Function for traversing through folder-files and creating dataframe and then generating csv out of it"
   ]
  },
  {
   "cell_type": "markdown",
   "id": "70469594",
   "metadata": {},
   "source": [
    "### Added functionality to remove duplicate keys"
   ]
  },
  {
   "cell_type": "code",
   "execution_count": 232,
   "id": "56391b5b",
   "metadata": {},
   "outputs": [],
   "source": [
    "def create_dataframe_from_json(path):\n",
    "    dfs = []  \n",
    "    \n",
    "    folder = os.listdir(path)\n",
    "    \n",
    "#     for folder in folders:\n",
    "#         new_path = os.path.join(path, folder)\n",
    "#         files_in_folder = os.listdir(new_path)\n",
    "        \n",
    "    for index, file in enumerate(folder):\n",
    "        file_name = file.split(\".\")\n",
    "        file_path = os.path.join(path, file)\n",
    "\n",
    "        with open(file_path, 'r', encoding='utf-8') as file:\n",
    "            data = json.load(file)\n",
    "\n",
    "        dict_json = {f\"{file_name[0]}.{k}.{key}\": string for k, v in data.items() for key, string in v.items()}\n",
    "\n",
    "        df = pd.DataFrame.from_dict(dict_json, orient='index').reset_index()\n",
    "        df.rename(columns={\"index\": \"languagekey\", 0: \"en_value (current)\"}, inplace=True)\n",
    "\n",
    "        additional_columns = [\"hi_translated\", \"hi_transliterated\", \"hi_value(curated)\",\n",
    "                              \"ta_translated\", \"ta_transliterated\", \"ta_value (curated)\"]\n",
    "\n",
    "        df[additional_columns] = pd.DataFrame([[pd.NA] * len(additional_columns)], index=df.index)\n",
    "        dfs.append(df)\n",
    "    \n",
    "    \n",
    "    result_df = pd.concat(dfs, ignore_index=True)\n",
    "    result_df=result_df.groupby('en_value (current)').first()\n",
    "    result_df.reset_index(inplace=True)\n",
    "    result_df = result_df.reindex(columns=['languagekey', 'en_value (current)', 'hi_translated', 'hi_transliterated', 'hi_value(curated)', 'ta_translated', 'ta_transliterated', 'ta_value(curated)'])\n",
    "    result_df.to_csv(\"Sample.csv\", index=False)\n",
    "    \n",
    "#     return result_df\n",
    "    return None"
   ]
  },
  {
   "cell_type": "code",
   "execution_count": null,
   "id": "0a0488e4",
   "metadata": {},
   "outputs": [],
   "source": []
  },
  {
   "cell_type": "code",
   "execution_count": null,
   "id": "74c1e367",
   "metadata": {},
   "outputs": [],
   "source": []
  },
  {
   "cell_type": "code",
   "execution_count": null,
   "id": "749a48f9",
   "metadata": {},
   "outputs": [],
   "source": []
  },
  {
   "cell_type": "code",
   "execution_count": 233,
   "id": "a5373937",
   "metadata": {},
   "outputs": [],
   "source": [
    "path = r\"C:\\Users\\Palash Ashok Bhosale\\Jupy\\Projects\\bhashini_integration\\Json_tocsv\\final_data\"\n",
    "result_df = create_dataframe_from_json(path)\n",
    "# print(result_df.head())"
   ]
  },
  {
   "cell_type": "markdown",
   "id": "94aa8890",
   "metadata": {},
   "source": [
    "# Bhashini Integration"
   ]
  },
  {
   "cell_type": "markdown",
   "id": "a46aebf2",
   "metadata": {},
   "source": [
    "## Get active api keys"
   ]
  },
  {
   "cell_type": "code",
   "execution_count": 8,
   "id": "5faac12d",
   "metadata": {},
   "outputs": [],
   "source": [
    "import requests\n"
   ]
  },
  {
   "cell_type": "code",
   "execution_count": 9,
   "id": "c76cbc19",
   "metadata": {},
   "outputs": [],
   "source": [
    "userID='3b9427542f494332b6431cb28dd1ddb1'\n",
    "ulcaApiKey='52194d3e6f-1d2c-4247-a665-bce41ef2eb4c'"
   ]
  },
  {
   "cell_type": "code",
   "execution_count": 10,
   "id": "c4c0d467",
   "metadata": {},
   "outputs": [],
   "source": [
    "def getactive_api(taskType, userID, ulcaApiKey):\n",
    "        \n",
    "    url = \"https://meity-auth.ulcacontrib.org/ulca/apis/v0/model/getModelsPipeline\"\n",
    "\n",
    "    payload = json.dumps({\n",
    "      \"pipelineTasks\": [\n",
    "        {\n",
    "          \"taskType\": taskType,\n",
    "          \"config\": {\n",
    "            \"language\": {\n",
    "              \"sourceLanguage\": \"en\"\n",
    "            }\n",
    "          }\n",
    "        }\n",
    "      ],\n",
    "      \"pipelineRequestConfig\": {\n",
    "        \"pipelineId\": \"64392f96daac500b55c543cd\"\n",
    "      }\n",
    "    })\n",
    "    headers = {\n",
    "      'userID': userID,\n",
    "      'ulcaApiKey': ulcaApiKey,\n",
    "      'Content-Type': 'application/json'\n",
    "    }\n",
    "\n",
    "    response = requests.request(\"POST\", url, headers=headers, data=payload)\n",
    "\n",
    "\n",
    "    config_translation=response.text\n",
    "    config_translation_data = json.loads(config_translation)\n",
    "#     print(config_translation_data)\n",
    "    target_languages = config_translation_data['languages'][0]['targetLanguageList']\n",
    "    api_translation = config_translation_data['pipelineResponseConfig'][0]['config'][0]['serviceId']\n",
    "#     target_lang=str(input(f\"select language from this list {target_languages}: \"))\n",
    "\n",
    "    return api_translation\n",
    "    "
   ]
  },
  {
   "cell_type": "code",
   "execution_count": null,
   "id": "a32c10ab",
   "metadata": {},
   "outputs": [],
   "source": []
  },
  {
   "cell_type": "markdown",
   "id": "369198b2",
   "metadata": {},
   "source": [
    "## Store active api for translation and transliteration in active _api list"
   ]
  },
  {
   "cell_type": "code",
   "execution_count": 11,
   "id": "34a8441f",
   "metadata": {},
   "outputs": [],
   "source": [
    "active_api=[]"
   ]
  },
  {
   "cell_type": "code",
   "execution_count": 12,
   "id": "2ebdd245",
   "metadata": {},
   "outputs": [],
   "source": [
    "active_api.append(getactive_api(\"transliteration\", userID, ulcaApiKey))"
   ]
  },
  {
   "cell_type": "code",
   "execution_count": 13,
   "id": "9389edd3",
   "metadata": {},
   "outputs": [],
   "source": [
    "active_api.append(getactive_api(\"translation\", userID, ulcaApiKey))"
   ]
  },
  {
   "cell_type": "code",
   "execution_count": 14,
   "id": "2b2da2b7",
   "metadata": {},
   "outputs": [
    {
     "data": {
      "text/plain": [
       "['ai4bharat/indicxlit--cpu-fsv2', 'ai4bharat/indictrans-v2-all-gpu--t4']"
      ]
     },
     "execution_count": 14,
     "metadata": {},
     "output_type": "execute_result"
    }
   ],
   "source": [
    "active_api"
   ]
  },
  {
   "cell_type": "code",
   "execution_count": null,
   "id": "6c99bb52",
   "metadata": {},
   "outputs": [],
   "source": []
  },
  {
   "cell_type": "code",
   "execution_count": null,
   "id": "9ce9ebb4",
   "metadata": {},
   "outputs": [],
   "source": []
  },
  {
   "cell_type": "markdown",
   "id": "bf3327bd",
   "metadata": {},
   "source": [
    "## Function to get translation and transliteration"
   ]
  },
  {
   "cell_type": "code",
   "execution_count": 15,
   "id": "720111e8",
   "metadata": {},
   "outputs": [],
   "source": [
    "def bhashini_api_call(task, target_lang, active_api, string):\n",
    "    if task==\"translation\":\n",
    "        api=active_api[1]\n",
    "    else:\n",
    "        api= active_api[0]\n",
    "\n",
    "\n",
    "    url = \"https://dhruva-api.bhashini.gov.in/services/inference/pipeline\"\n",
    "    # source=\"Hi my name is Palash\"\n",
    "    payload = json.dumps({\n",
    "      \"pipelineTasks\": [\n",
    "        {\n",
    "          \"taskType\": task,\n",
    "          \"config\": {\n",
    "            \"language\": {\n",
    "              \"sourceLanguage\": \"en\",\n",
    "              \"targetLanguage\": target_lang\n",
    "            },\n",
    "            \"serviceId\": api\n",
    "          }\n",
    "        }\n",
    "      ],\n",
    "      \"inputData\": {\n",
    "        \"input\": [\n",
    "          {\n",
    "            \"source\": string\n",
    "    #         \"source\": \"मेरा नाम विहिर है और मैं भाषाावर्ष यूज कर रहा हूँ\"\n",
    "          }\n",
    "        ]\n",
    "      }\n",
    "    })\n",
    "    headers = {\n",
    "      'Accept': '*/*',\n",
    "      'Authorization': '9uAUqhCxaept0FGxeOUkyJ1XQSZtp9GWHy5XLriwyBsS-sovl9RkTe2Gkthwrx2F',\n",
    "      'Content-Type': 'application/json'\n",
    "    }\n",
    "\n",
    "    response = requests.request(\"POST\", url, headers=headers, data=payload)\n",
    "\n",
    "    translation_json= response.text\n",
    "\n",
    "    translated_data = json.loads(translation_json)\n",
    "#     print(api)\n",
    "    if task==\"translation\":\n",
    "#         print(translated_data)\n",
    "        return translated_data['pipelineResponse'][0]['output'][0]['target']\n",
    "    else:\n",
    "        return translated_data['pipelineResponse'][0]['output'][0]['target'][0]"
   ]
  },
  {
   "cell_type": "markdown",
   "id": "57300bef",
   "metadata": {},
   "source": [
    "## Load CSV"
   ]
  },
  {
   "cell_type": "code",
   "execution_count": 28,
   "id": "996cb209",
   "metadata": {},
   "outputs": [],
   "source": [
    "import pandas as pd"
   ]
  },
  {
   "cell_type": "code",
   "execution_count": 16,
   "id": "4ad142d2",
   "metadata": {},
   "outputs": [],
   "source": [
    "df=pd.read_csv(\"Updated_07_12.csv\")"
   ]
  },
  {
   "cell_type": "code",
   "execution_count": 17,
   "id": "42875fe0",
   "metadata": {},
   "outputs": [],
   "source": [
    "# for index,row in df.iterrows():\n",
    "\n",
    "#     row[\"hi_translated\"]=bhashini_api_call(\"translation\", \"hi\", active_api, row[\"en_value (current)\"])\n",
    "\n",
    "    \n",
    "#     break"
   ]
  },
  {
   "cell_type": "code",
   "execution_count": 41,
   "id": "2632223e",
   "metadata": {
    "scrolled": true
   },
   "outputs": [
    {
     "name": "stderr",
     "output_type": "stream",
     "text": [
      "100%|████████████████████████████████████████████████████████████████████████████████| 123/123 [02:22<00:00,  1.16s/it]\n"
     ]
    }
   ],
   "source": [
    "df[\"h\"] = df.loc[800:][\"en_value (current)\"].progress_apply(lambda x: bhashini_api_call(\"translation\", \"ta\", active_api, x))\n"
   ]
  },
  {
   "cell_type": "code",
   "execution_count": 42,
   "id": "b5d39d71",
   "metadata": {},
   "outputs": [],
   "source": [
    "df.to_csv(\"final.csv\")"
   ]
  },
  {
   "cell_type": "code",
   "execution_count": null,
   "id": "e0550c99",
   "metadata": {},
   "outputs": [],
   "source": [
    "df[\"ta_translated\"] = df[\"en_value (current)\"].progress_apply(lambda x: bhashini_api_call(\"translation\", \"ta\", active_api, x))\n"
   ]
  },
  {
   "cell_type": "code",
   "execution_count": null,
   "id": "1c4a8a51",
   "metadata": {},
   "outputs": [],
   "source": [
    "df[\"hi_transliterated\"] = df[\"en_value (current)\"].progress_apply(lambda x: bhashini_api_call(\"transliteration\", \"hi\", active_api, x))"
   ]
  },
  {
   "cell_type": "code",
   "execution_count": 47,
   "id": "1b605b97",
   "metadata": {},
   "outputs": [],
   "source": [
    "# txt=\"You can search for a CBP through various ways: 1. Search a CBP by name 2. Explore by topics 3. Explore by competencies 4. Explore by topics\""
   ]
  },
  {
   "cell_type": "code",
   "execution_count": 79,
   "id": "18041f76",
   "metadata": {},
   "outputs": [],
   "source": [
    "# dd={}\n",
    "# dd[\"a\"]=bhashini_api_call(\"translation\", \"hi\", active_api, txt)\n",
    "# dd[\"b\"]=bhashini_api_call(\"translation\", \"ta\", active_api, txt)\n",
    "# dd[\"c\"]=bhashini_api_call(\"transliteration\", \"hi\", active_api, txt)\n",
    "# dd[\"d\"]=bhashini_api_call(\"transliteration\", \"ta\", active_api, txt)\n",
    "# df2=pd.DataFrame(dd.items())"
   ]
  },
  {
   "cell_type": "code",
   "execution_count": 80,
   "id": "a6185162",
   "metadata": {},
   "outputs": [
    {
     "data": {
      "text/html": [
       "<div>\n",
       "<style scoped>\n",
       "    .dataframe tbody tr th:only-of-type {\n",
       "        vertical-align: middle;\n",
       "    }\n",
       "\n",
       "    .dataframe tbody tr th {\n",
       "        vertical-align: top;\n",
       "    }\n",
       "\n",
       "    .dataframe thead th {\n",
       "        text-align: right;\n",
       "    }\n",
       "</style>\n",
       "<table border=\"1\" class=\"dataframe\">\n",
       "  <thead>\n",
       "    <tr style=\"text-align: right;\">\n",
       "      <th></th>\n",
       "      <th>0</th>\n",
       "      <th>1</th>\n",
       "    </tr>\n",
       "  </thead>\n",
       "  <tbody>\n",
       "    <tr>\n",
       "      <th>0</th>\n",
       "      <td>a</td>\n",
       "      <td>आप विभिन्न तरीकों से सी. बी. पी. की खोज कर सकत...</td>\n",
       "    </tr>\n",
       "    <tr>\n",
       "      <th>1</th>\n",
       "      <td>b</td>\n",
       "      <td>நீங்கள் பல்வேறு வழிகளில் ஒரு சிபிபியைத் தேடலாம...</td>\n",
       "    </tr>\n",
       "    <tr>\n",
       "      <th>2</th>\n",
       "      <td>c</td>\n",
       "      <td>यू कैन सर्च फोर आ सीबीपी थ्रोग वेरियस वेज: १. ...</td>\n",
       "    </tr>\n",
       "    <tr>\n",
       "      <th>3</th>\n",
       "      <td>d</td>\n",
       "      <td>யூ கான் சியர்ச் போர் அ சிபிபி த்ராக் வேரியஸ் வ...</td>\n",
       "    </tr>\n",
       "  </tbody>\n",
       "</table>\n",
       "</div>"
      ],
      "text/plain": [
       "   0                                                  1\n",
       "0  a  आप विभिन्न तरीकों से सी. बी. पी. की खोज कर सकत...\n",
       "1  b  நீங்கள் பல்வேறு வழிகளில் ஒரு சிபிபியைத் தேடலாம...\n",
       "2  c  यू कैन सर्च फोर आ सीबीपी थ्रोग वेरियस वेज: १. ...\n",
       "3  d  யூ கான் சியர்ச் போர் அ சிபிபி த்ராக் வேரியஸ் வ..."
      ]
     },
     "execution_count": 80,
     "metadata": {},
     "output_type": "execute_result"
    }
   ],
   "source": [
    "# df2"
   ]
  },
  {
   "cell_type": "code",
   "execution_count": 81,
   "id": "babcac75",
   "metadata": {},
   "outputs": [],
   "source": [
    "# df2.to_csv(\"trash.csv\")"
   ]
  },
  {
   "cell_type": "code",
   "execution_count": null,
   "id": "0e8e3810",
   "metadata": {},
   "outputs": [],
   "source": []
  },
  {
   "cell_type": "code",
   "execution_count": null,
   "id": "e2ea4887",
   "metadata": {},
   "outputs": [],
   "source": [
    "df[\"ta_transliterated\"] = df[\"en_value (current)\"].progress_apply(lambda x: bhashini_api_call(\"transliteration\", \"ta\", active_api, x))"
   ]
  },
  {
   "cell_type": "code",
   "execution_count": 21,
   "id": "5f8cf2d1",
   "metadata": {},
   "outputs": [],
   "source": [
    "# df.to_csv(\"Updated_07_12.csv\")"
   ]
  },
  {
   "cell_type": "code",
   "execution_count": null,
   "id": "6d1c9515",
   "metadata": {},
   "outputs": [],
   "source": []
  },
  {
   "cell_type": "code",
   "execution_count": null,
   "id": "19fcce44",
   "metadata": {},
   "outputs": [],
   "source": [
    "# df=pd.read_csv(\"Updated_06_12.csv\")"
   ]
  },
  {
   "cell_type": "code",
   "execution_count": null,
   "id": "4e394564",
   "metadata": {},
   "outputs": [],
   "source": []
  },
  {
   "cell_type": "code",
   "execution_count": null,
   "id": "80841f72",
   "metadata": {},
   "outputs": [],
   "source": []
  },
  {
   "cell_type": "code",
   "execution_count": 101,
   "id": "984d8101",
   "metadata": {},
   "outputs": [
    {
     "data": {
      "text/html": [
       "<div>\n",
       "<style scoped>\n",
       "    .dataframe tbody tr th:only-of-type {\n",
       "        vertical-align: middle;\n",
       "    }\n",
       "\n",
       "    .dataframe tbody tr th {\n",
       "        vertical-align: top;\n",
       "    }\n",
       "\n",
       "    .dataframe thead th {\n",
       "        text-align: right;\n",
       "    }\n",
       "</style>\n",
       "<table border=\"1\" class=\"dataframe\">\n",
       "  <thead>\n",
       "    <tr style=\"text-align: right;\">\n",
       "      <th></th>\n",
       "      <th>Unnamed: 0</th>\n",
       "      <th>languagekey</th>\n",
       "      <th>en_value (current)</th>\n",
       "      <th>hi_translated</th>\n",
       "      <th>hi_transliterated</th>\n",
       "      <th>hi_value(curated)</th>\n",
       "      <th>ta_translated</th>\n",
       "      <th>ta_transliterated</th>\n",
       "      <th>ta_value (curated)</th>\n",
       "    </tr>\n",
       "  </thead>\n",
       "  <tbody>\n",
       "    <tr>\n",
       "      <th>0</th>\n",
       "      <td>0</td>\n",
       "      <td>en.common.karmayogiBharat</td>\n",
       "      <td>Karmayogi Bharat</td>\n",
       "      <td>कर्मयोगी भारत</td>\n",
       "      <td>कर्मयोगी भारत</td>\n",
       "      <td>NaN</td>\n",
       "      <td>கர்மயோகி பாரத்</td>\n",
       "      <td>கர்மயோகி பாரத்</td>\n",
       "      <td>NaN</td>\n",
       "    </tr>\n",
       "    <tr>\n",
       "      <th>1</th>\n",
       "      <td>1</td>\n",
       "      <td>en.common.hubs</td>\n",
       "      <td>Hubs</td>\n",
       "      <td>हब</td>\n",
       "      <td>हब्स</td>\n",
       "      <td>NaN</td>\n",
       "      <td>மையங்கள்</td>\n",
       "      <td>ஹப்ஸ்</td>\n",
       "      <td>NaN</td>\n",
       "    </tr>\n",
       "    <tr>\n",
       "      <th>2</th>\n",
       "      <td>2</td>\n",
       "      <td>en.common.learn</td>\n",
       "      <td>Learn</td>\n",
       "      <td>सीखें।</td>\n",
       "      <td>लर्न</td>\n",
       "      <td>NaN</td>\n",
       "      <td>கற்றுக் கொள்ளுங்கள்.</td>\n",
       "      <td>லர்ன்</td>\n",
       "      <td>NaN</td>\n",
       "    </tr>\n",
       "    <tr>\n",
       "      <th>3</th>\n",
       "      <td>3</td>\n",
       "      <td>en.common.discuss</td>\n",
       "      <td>Discuss</td>\n",
       "      <td>चर्चा करें।</td>\n",
       "      <td>डिस्कस</td>\n",
       "      <td>NaN</td>\n",
       "      <td>விவாதிக்கவும்.</td>\n",
       "      <td>டிஸ்கஸ்</td>\n",
       "      <td>NaN</td>\n",
       "    </tr>\n",
       "    <tr>\n",
       "      <th>4</th>\n",
       "      <td>4</td>\n",
       "      <td>en.common.network</td>\n",
       "      <td>Network</td>\n",
       "      <td>नेटवर्क</td>\n",
       "      <td>नेटवर्क</td>\n",
       "      <td>NaN</td>\n",
       "      <td>நெட்வொர்க்</td>\n",
       "      <td>நெட்வொர்க்</td>\n",
       "      <td>NaN</td>\n",
       "    </tr>\n",
       "  </tbody>\n",
       "</table>\n",
       "</div>"
      ],
      "text/plain": [
       "   Unnamed: 0                languagekey en_value (current)  hi_translated  \\\n",
       "0           0  en.common.karmayogiBharat   Karmayogi Bharat  कर्मयोगी भारत   \n",
       "1           1             en.common.hubs               Hubs             हब   \n",
       "2           2            en.common.learn              Learn         सीखें।   \n",
       "3           3          en.common.discuss            Discuss    चर्चा करें।   \n",
       "4           4          en.common.network            Network        नेटवर्क   \n",
       "\n",
       "  hi_transliterated  hi_value(curated)         ta_translated  \\\n",
       "0     कर्मयोगी भारत                NaN        கர்மயோகி பாரத்   \n",
       "1              हब्स                NaN              மையங்கள்   \n",
       "2              लर्न                NaN  கற்றுக் கொள்ளுங்கள்.   \n",
       "3            डिस्कस                NaN        விவாதிக்கவும்.   \n",
       "4           नेटवर्क                NaN            நெட்வொர்க்   \n",
       "\n",
       "  ta_transliterated  ta_value (curated)  \n",
       "0    கர்மயோகி பாரத்                 NaN  \n",
       "1             ஹப்ஸ்                 NaN  \n",
       "2             லர்ன்                 NaN  \n",
       "3           டிஸ்கஸ்                 NaN  \n",
       "4        நெட்வொர்க்                 NaN  "
      ]
     },
     "execution_count": 101,
     "metadata": {},
     "output_type": "execute_result"
    }
   ],
   "source": [
    "\n",
    "#     df.head()"
   ]
  },
  {
   "cell_type": "code",
   "execution_count": null,
   "id": "99408deb",
   "metadata": {},
   "outputs": [],
   "source": []
  },
  {
   "cell_type": "code",
   "execution_count": null,
   "id": "64e6df1e",
   "metadata": {},
   "outputs": [],
   "source": [
    "path = r\"C:\\Users\\Palash Ashok Bhosale\\Jupy\\Projects\\bhashini_integration\\Json_tocsv\\en.json\"\n",
    "\n",
    "with open(path, 'r', encoding='utf-8') as file:\n",
    "    json_data = file.read()\n",
    "    \n",
    "data = json.loads(json_data)"
   ]
  },
  {
   "cell_type": "code",
   "execution_count": null,
   "id": "fc981d6b",
   "metadata": {},
   "outputs": [],
   "source": []
  },
  {
   "cell_type": "code",
   "execution_count": 82,
   "id": "23fb10cd",
   "metadata": {},
   "outputs": [],
   "source": [
    "def create_Json(u_in, csv_path, files_path):\n",
    "    \n",
    "    files_in_folder = os.listdir(files_path)\n",
    "       \n",
    "    for index, file in enumerate(files_in_folder):\n",
    "        final_dict={}\n",
    "        file_name = file.split(\".\")\n",
    "        file_name=file_name[0]\n",
    "        file_path = os.path.join(files_path, file)\n",
    "\n",
    "        with open(file_path, 'r', encoding='utf-8') as file:\n",
    "            data = json.load(file)\n",
    "    \n",
    "        for tag,value in data.items():\n",
    "            temp_dict={}\n",
    "            for keyword, v in value.items():\n",
    "                df=pd.read_csv(csv_path)\n",
    "                \n",
    "                try:\n",
    "                    \n",
    "                    value_df=df[u_in][df[\"en_value (current)\"]==v].values[0]\n",
    "\n",
    "                    temp_dict[keyword]=value_df\n",
    "                    \n",
    "                except:\n",
    "                    print(keyword)\n",
    "\n",
    "\n",
    "            final_dict[tag]=temp_dict\n",
    "\n",
    "        \n",
    "        with open(f\"output_{file_name}\", 'w', encoding='utf-8') as json_file:\n",
    "            json.dump(final_dict, json_file, indent=2, ensure_ascii=False)\n",
    "            \n",
    "    return None"
   ]
  },
  {
   "cell_type": "code",
   "execution_count": null,
   "id": "8bff0044",
   "metadata": {},
   "outputs": [],
   "source": []
  },
  {
   "cell_type": "code",
   "execution_count": 83,
   "id": "8bc854a1",
   "metadata": {},
   "outputs": [],
   "source": [
    "create_Json(\"hi_translated\", r\"C:\\Users\\Palash Ashok Bhosale\\Jupy\\Projects\\bhashini_integration\\Json_tocsv\\Updated_07_12.csv\", r\"C:\\Users\\Palash Ashok Bhosale\\Jupy\\Projects\\bhashini_integration\\Json_tocsv\\final_data\")"
   ]
  },
  {
   "cell_type": "code",
   "execution_count": null,
   "id": "dd5056cc",
   "metadata": {},
   "outputs": [],
   "source": [
    "# panelHeader\n",
    "# cbpHowDescription"
   ]
  }
 ],
 "metadata": {
  "kernelspec": {
   "display_name": "Python 3 (ipykernel)",
   "language": "python",
   "name": "python3"
  },
  "language_info": {
   "codemirror_mode": {
    "name": "ipython",
    "version": 3
   },
   "file_extension": ".py",
   "mimetype": "text/x-python",
   "name": "python",
   "nbconvert_exporter": "python",
   "pygments_lexer": "ipython3",
   "version": "3.11.4"
  }
 },
 "nbformat": 4,
 "nbformat_minor": 5
}
